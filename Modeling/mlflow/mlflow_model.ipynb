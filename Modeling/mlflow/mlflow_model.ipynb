{
 "cells": [
  {
   "cell_type": "code",
   "execution_count": 52,
   "id": "d5379dc8",
   "metadata": {
    "id": "d5379dc8"
   },
   "outputs": [],
   "source": [
    "import pandas as pd\n",
    "import matplotlib.pyplot as plt\n",
    "import seaborn as sns\n",
    "from sklearn.preprocessing import label_binarize\n",
    "from sklearn.metrics import accuracy_score, classification_report, confusion_matrix, ConfusionMatrixDisplay, roc_curve, auc, RocCurveDisplay\n",
    "from sklearn.model_selection import train_test_split, StratifiedKFold, GridSearchCV\n",
    "from sklearn.pipeline import Pipeline\n",
    "from sklearn.compose import ColumnTransformer\n",
    "from sklearn.preprocessing import StandardScaler\n",
    "from sklearn.ensemble import RandomForestClassifier, ExtraTreesClassifier\n",
    "from sklearn.tree import DecisionTreeClassifier\n",
    "from category_encoders import TargetEncoder\n",
    "import mlflow\n",
    "import mlflow.sklearn\n",
    "from mlflow.models.signature import infer_signature"
   ]
  },
  {
   "cell_type": "code",
   "execution_count": 35,
   "id": "5943961d",
   "metadata": {},
   "outputs": [],
   "source": [
    "# Mapping Kolom Program Studi dan Jalur Seleksi\n",
    "dataset_prev = pd.read_excel('../pbl/Dataset for ML.xlsx')\n",
    "program_studi_mapping = {\n",
    "    \"Teknik Elektronika\": 1,\n",
    "    \"Teknik Telekomunikasi\": 2,\n",
    "    \"Teknik Elektro Industri\": 3,\n",
    "    \"Teknik Informatika\": 4,\n",
    "    \"Teknik Mekatronika\": 5,\n",
    "    \"Teknik Komputer\": 6,\n",
    "    \"Teknologi Multimedia Broadcasting\": 7,\n",
    "    \"Sistem Pembangkit Energi\": 8,\n",
    "    \"Teknologi Game\": 9,\n",
    "    \"Teknologi Rekayasa Internet\": 10,\n",
    "    \"Teknologi Rekayasa Multimedia\": 11,\n",
    "    \"Sains Data Terapan\": 12\n",
    "}\n",
    "dataset_prev['Program Studi'] = dataset_prev['Program Studi'].map(program_studi_mapping)"
   ]
  },
  {
   "cell_type": "code",
   "execution_count": 36,
   "id": "7919683d",
   "metadata": {
    "id": "7919683d",
    "outputId": "135268cc-a03f-4bc9-f7ac-21d7aed0f988"
   },
   "outputs": [
    {
     "data": {
      "text/html": [
       "<div>\n",
       "<style scoped>\n",
       "    .dataframe tbody tr th:only-of-type {\n",
       "        vertical-align: middle;\n",
       "    }\n",
       "\n",
       "    .dataframe tbody tr th {\n",
       "        vertical-align: top;\n",
       "    }\n",
       "\n",
       "    .dataframe thead th {\n",
       "        text-align: right;\n",
       "    }\n",
       "</style>\n",
       "<table border=\"1\" class=\"dataframe\">\n",
       "  <thead>\n",
       "    <tr style=\"text-align: right;\">\n",
       "      <th></th>\n",
       "      <th>id</th>\n",
       "      <th>jenjang_pendidikan</th>\n",
       "      <th>minat_bakat</th>\n",
       "      <th>jalur_pendaftaran</th>\n",
       "      <th>rata_nilai</th>\n",
       "      <th>rencana_karir</th>\n",
       "      <th>prodi_rekomendasi_id</th>\n",
       "    </tr>\n",
       "  </thead>\n",
       "  <tbody>\n",
       "    <tr>\n",
       "      <th>0</th>\n",
       "      <td>1</td>\n",
       "      <td>D3</td>\n",
       "      <td>Fisika, Teknik Tenaga Listrik (TTL)</td>\n",
       "      <td>Jalur Tes Tulis</td>\n",
       "      <td>830.0</td>\n",
       "      <td>Network Engineer</td>\n",
       "      <td>2</td>\n",
       "    </tr>\n",
       "    <tr>\n",
       "      <th>1</th>\n",
       "      <td>2</td>\n",
       "      <td>D3</td>\n",
       "      <td>Kimia, Teknologi Komputer Jaringan (TKJ)</td>\n",
       "      <td>Jalur Prestasi</td>\n",
       "      <td>91.0</td>\n",
       "      <td>Broadcast Engineer</td>\n",
       "      <td>7</td>\n",
       "    </tr>\n",
       "    <tr>\n",
       "      <th>2</th>\n",
       "      <td>3</td>\n",
       "      <td>D4</td>\n",
       "      <td>Pemrograman, Statistika, Teknologi Komputer Ja...</td>\n",
       "      <td>Jalur Prestasi</td>\n",
       "      <td>95.6</td>\n",
       "      <td>Machine Learning Engineer</td>\n",
       "      <td>12</td>\n",
       "    </tr>\n",
       "    <tr>\n",
       "      <th>3</th>\n",
       "      <td>4</td>\n",
       "      <td>D4</td>\n",
       "      <td>Teknik Instalasi Tenaga Listrik (TITL), Teknol...</td>\n",
       "      <td>Jalur Prestasi</td>\n",
       "      <td>86.1</td>\n",
       "      <td>Game Designer</td>\n",
       "      <td>9</td>\n",
       "    </tr>\n",
       "    <tr>\n",
       "      <th>4</th>\n",
       "      <td>5</td>\n",
       "      <td>D4</td>\n",
       "      <td>Fisika, Matematika, Desain Animasi</td>\n",
       "      <td>Jalur Test Tulis</td>\n",
       "      <td>882.7</td>\n",
       "      <td>Digital Content Creator</td>\n",
       "      <td>11</td>\n",
       "    </tr>\n",
       "  </tbody>\n",
       "</table>\n",
       "</div>"
      ],
      "text/plain": [
       "   id jenjang_pendidikan                                        minat_bakat  \\\n",
       "0   1                 D3                Fisika, Teknik Tenaga Listrik (TTL)   \n",
       "1   2                 D3           Kimia, Teknologi Komputer Jaringan (TKJ)   \n",
       "2   3                 D4  Pemrograman, Statistika, Teknologi Komputer Ja...   \n",
       "3   4                 D4  Teknik Instalasi Tenaga Listrik (TITL), Teknol...   \n",
       "4   5                 D4                 Fisika, Matematika, Desain Animasi   \n",
       "\n",
       "  jalur_pendaftaran  rata_nilai              rencana_karir  \\\n",
       "0   Jalur Tes Tulis       830.0           Network Engineer   \n",
       "1    Jalur Prestasi        91.0         Broadcast Engineer   \n",
       "2    Jalur Prestasi        95.6  Machine Learning Engineer   \n",
       "3    Jalur Prestasi        86.1              Game Designer   \n",
       "4  Jalur Test Tulis       882.7    Digital Content Creator   \n",
       "\n",
       "   prodi_rekomendasi_id  \n",
       "0                     2  \n",
       "1                     7  \n",
       "2                    12  \n",
       "3                     9  \n",
       "4                    11  "
      ]
     },
     "execution_count": 36,
     "metadata": {},
     "output_type": "execute_result"
    }
   ],
   "source": [
    "df = pd.read_csv('dataset_for_ml_fix.csv',delimiter=';')\n",
    "df.head()"
   ]
  },
  {
   "cell_type": "code",
   "execution_count": 37,
   "id": "88b946ea",
   "metadata": {
    "id": "88b946ea",
    "outputId": "d20d61c3-ac4d-4f04-ced3-b264f74c1a1c"
   },
   "outputs": [
    {
     "name": "stdout",
     "output_type": "stream",
     "text": [
      "<class 'pandas.core.frame.DataFrame'>\n",
      "RangeIndex: 1000 entries, 0 to 999\n",
      "Data columns (total 7 columns):\n",
      " #   Column                Non-Null Count  Dtype  \n",
      "---  ------                --------------  -----  \n",
      " 0   id                    1000 non-null   int64  \n",
      " 1   jenjang_pendidikan    1000 non-null   object \n",
      " 2   minat_bakat           1000 non-null   object \n",
      " 3   jalur_pendaftaran     1000 non-null   object \n",
      " 4   rata_nilai            1000 non-null   float64\n",
      " 5   rencana_karir         1000 non-null   object \n",
      " 6   prodi_rekomendasi_id  1000 non-null   int64  \n",
      "dtypes: float64(1), int64(2), object(4)\n",
      "memory usage: 54.8+ KB\n"
     ]
    }
   ],
   "source": [
    "df.info()"
   ]
  },
  {
   "cell_type": "markdown",
   "id": "iuDzVu1os7l9",
   "metadata": {
    "id": "iuDzVu1os7l9"
   },
   "source": [
    "# Feature Engineering"
   ]
  },
  {
   "cell_type": "code",
   "execution_count": 38,
   "id": "3ea0b99d",
   "metadata": {
    "id": "3ea0b99d"
   },
   "outputs": [],
   "source": [
    "# === OHE FITUR MINAT_BAKAT ===\n",
    "minat_bakat_dummies = df['minat_bakat'].str.get_dummies(sep=', ')\n",
    "df = pd.concat([df, minat_bakat_dummies], axis=1)\n",
    "\n",
    "# === DROP COLUMN ===\n",
    "df = df.drop(columns=['minat_bakat'], axis=1)\n",
    "\n",
    "# === SPLIT TRAIN-TEST DATA ===\n",
    "X = df.drop('prodi_rekomendasi_id', axis=1)\n",
    "y = df['prodi_rekomendasi_id']\n",
    "\n",
    "X_train, X_test, y_train, y_test = train_test_split(\n",
    "    X, y, test_size=0.3, stratify=y, random_state=4824\n",
    ")\n",
    "\n",
    "# === IDENTIFIKASI FEATURES ===\n",
    "numeric_features = ['rata_nilai']\n",
    "categorical_target = ['jenjang_pendidikan', 'jalur_pendaftaran', 'rencana_karir']\n",
    "\n",
    "# === NORMALISASI ===\n",
    "numeric_transformer = Pipeline(steps=[\n",
    "    ('scaler', StandardScaler())\n",
    "])\n",
    "\n",
    "# === ENCODING ===\n",
    "target_transformer = Pipeline(steps=[\n",
    "    ('target_enc', TargetEncoder())\n",
    "])\n",
    "\n",
    "# === PREPROCESSING ===\n",
    "preprocessor = ColumnTransformer(\n",
    "    transformers=[\n",
    "        ('num', numeric_transformer, numeric_features),\n",
    "        ('target', target_transformer, categorical_target)\n",
    "    ],\n",
    "    remainder='passthrough',  # fitur one-hot Minat dan Bakat tidak hilang\n",
    "    sparse_threshold=0\n",
    ")"
   ]
  },
  {
   "cell_type": "code",
   "execution_count": 39,
   "id": "632dbf85",
   "metadata": {
    "id": "632dbf85",
    "outputId": "a3f23ac3-6032-4eea-a6d2-49da65ce2ced"
   },
   "outputs": [
    {
     "data": {
      "text/html": [
       "<div>\n",
       "<style scoped>\n",
       "    .dataframe tbody tr th:only-of-type {\n",
       "        vertical-align: middle;\n",
       "    }\n",
       "\n",
       "    .dataframe tbody tr th {\n",
       "        vertical-align: top;\n",
       "    }\n",
       "\n",
       "    .dataframe thead th {\n",
       "        text-align: right;\n",
       "    }\n",
       "</style>\n",
       "<table border=\"1\" class=\"dataframe\">\n",
       "  <thead>\n",
       "    <tr style=\"text-align: right;\">\n",
       "      <th></th>\n",
       "      <th>rata_nilai</th>\n",
       "      <th>jenjang_pendidikan_enc</th>\n",
       "      <th>jalur_pendaftaran_enc</th>\n",
       "      <th>rencana_karir_enc</th>\n",
       "      <th>id</th>\n",
       "      <th>Desain Animasi</th>\n",
       "      <th>Desain Grafis</th>\n",
       "      <th>Elektronika</th>\n",
       "      <th>Fisika</th>\n",
       "      <th>Kimia</th>\n",
       "      <th>Matematika</th>\n",
       "      <th>Multimedia</th>\n",
       "      <th>Pemrograman</th>\n",
       "      <th>Statistika</th>\n",
       "      <th>Teknik Instalasi Tenaga Listrik (TITL)</th>\n",
       "      <th>Teknik Tenaga Listrik (TTL)</th>\n",
       "      <th>Teknologi Komputer Jaringan (TKJ)</th>\n",
       "    </tr>\n",
       "  </thead>\n",
       "  <tbody>\n",
       "    <tr>\n",
       "      <th>708</th>\n",
       "      <td>-1.006885</td>\n",
       "      <td>7.188300</td>\n",
       "      <td>6.466454</td>\n",
       "      <td>5.946138</td>\n",
       "      <td>709.0</td>\n",
       "      <td>0.0</td>\n",
       "      <td>0.0</td>\n",
       "      <td>0.0</td>\n",
       "      <td>0.0</td>\n",
       "      <td>1.0</td>\n",
       "      <td>0.0</td>\n",
       "      <td>0.0</td>\n",
       "      <td>1.0</td>\n",
       "      <td>0.0</td>\n",
       "      <td>1.0</td>\n",
       "      <td>1.0</td>\n",
       "      <td>0.0</td>\n",
       "    </tr>\n",
       "    <tr>\n",
       "      <th>476</th>\n",
       "      <td>-1.013741</td>\n",
       "      <td>4.130723</td>\n",
       "      <td>6.466454</td>\n",
       "      <td>6.668812</td>\n",
       "      <td>477.0</td>\n",
       "      <td>0.0</td>\n",
       "      <td>0.0</td>\n",
       "      <td>1.0</td>\n",
       "      <td>0.0</td>\n",
       "      <td>0.0</td>\n",
       "      <td>0.0</td>\n",
       "      <td>1.0</td>\n",
       "      <td>0.0</td>\n",
       "      <td>0.0</td>\n",
       "      <td>0.0</td>\n",
       "      <td>1.0</td>\n",
       "      <td>1.0</td>\n",
       "    </tr>\n",
       "    <tr>\n",
       "      <th>813</th>\n",
       "      <td>1.219610</td>\n",
       "      <td>4.130723</td>\n",
       "      <td>6.756906</td>\n",
       "      <td>4.091290</td>\n",
       "      <td>814.0</td>\n",
       "      <td>0.0</td>\n",
       "      <td>0.0</td>\n",
       "      <td>0.0</td>\n",
       "      <td>0.0</td>\n",
       "      <td>0.0</td>\n",
       "      <td>1.0</td>\n",
       "      <td>0.0</td>\n",
       "      <td>1.0</td>\n",
       "      <td>0.0</td>\n",
       "      <td>0.0</td>\n",
       "      <td>0.0</td>\n",
       "      <td>0.0</td>\n",
       "    </tr>\n",
       "    <tr>\n",
       "      <th>146</th>\n",
       "      <td>-1.031843</td>\n",
       "      <td>7.188300</td>\n",
       "      <td>6.466454</td>\n",
       "      <td>5.797968</td>\n",
       "      <td>147.0</td>\n",
       "      <td>0.0</td>\n",
       "      <td>0.0</td>\n",
       "      <td>1.0</td>\n",
       "      <td>0.0</td>\n",
       "      <td>0.0</td>\n",
       "      <td>0.0</td>\n",
       "      <td>0.0</td>\n",
       "      <td>1.0</td>\n",
       "      <td>0.0</td>\n",
       "      <td>1.0</td>\n",
       "      <td>0.0</td>\n",
       "      <td>1.0</td>\n",
       "    </tr>\n",
       "    <tr>\n",
       "      <th>422</th>\n",
       "      <td>1.286806</td>\n",
       "      <td>4.130723</td>\n",
       "      <td>6.756906</td>\n",
       "      <td>6.795732</td>\n",
       "      <td>423.0</td>\n",
       "      <td>0.0</td>\n",
       "      <td>1.0</td>\n",
       "      <td>0.0</td>\n",
       "      <td>0.0</td>\n",
       "      <td>0.0</td>\n",
       "      <td>0.0</td>\n",
       "      <td>0.0</td>\n",
       "      <td>1.0</td>\n",
       "      <td>1.0</td>\n",
       "      <td>0.0</td>\n",
       "      <td>0.0</td>\n",
       "      <td>0.0</td>\n",
       "    </tr>\n",
       "  </tbody>\n",
       "</table>\n",
       "</div>"
      ],
      "text/plain": [
       "     rata_nilai  jenjang_pendidikan_enc  jalur_pendaftaran_enc  \\\n",
       "708   -1.006885                7.188300               6.466454   \n",
       "476   -1.013741                4.130723               6.466454   \n",
       "813    1.219610                4.130723               6.756906   \n",
       "146   -1.031843                7.188300               6.466454   \n",
       "422    1.286806                4.130723               6.756906   \n",
       "\n",
       "     rencana_karir_enc     id  Desain Animasi  Desain Grafis  Elektronika  \\\n",
       "708           5.946138  709.0             0.0            0.0          0.0   \n",
       "476           6.668812  477.0             0.0            0.0          1.0   \n",
       "813           4.091290  814.0             0.0            0.0          0.0   \n",
       "146           5.797968  147.0             0.0            0.0          1.0   \n",
       "422           6.795732  423.0             0.0            1.0          0.0   \n",
       "\n",
       "     Fisika  Kimia  Matematika  Multimedia  Pemrograman  Statistika  \\\n",
       "708     0.0    1.0         0.0         0.0          1.0         0.0   \n",
       "476     0.0    0.0         0.0         1.0          0.0         0.0   \n",
       "813     0.0    0.0         1.0         0.0          1.0         0.0   \n",
       "146     0.0    0.0         0.0         0.0          1.0         0.0   \n",
       "422     0.0    0.0         0.0         0.0          1.0         1.0   \n",
       "\n",
       "     Teknik Instalasi Tenaga Listrik (TITL)  Teknik Tenaga Listrik (TTL)  \\\n",
       "708                                     1.0                          1.0   \n",
       "476                                     0.0                          1.0   \n",
       "813                                     0.0                          0.0   \n",
       "146                                     1.0                          0.0   \n",
       "422                                     0.0                          0.0   \n",
       "\n",
       "     Teknologi Komputer Jaringan (TKJ)  \n",
       "708                                0.0  \n",
       "476                                1.0  \n",
       "813                                0.0  \n",
       "146                                1.0  \n",
       "422                                0.0  "
      ]
     },
     "execution_count": 39,
     "metadata": {},
     "output_type": "execute_result"
    }
   ],
   "source": [
    "# Transformasi X_train menggunakan preprocessor\n",
    "X_train_transformed = preprocessor.fit_transform(X_train, y_train)\n",
    "\n",
    "# Ambil nama kolom hasil transformasi:\n",
    "# - Kolom numeric setelah scaling\n",
    "transformed_cols = numeric_features.copy()\n",
    "\n",
    "# - Kolom categorical yang di-encode\n",
    "transformed_cols += [f\"{col}_enc\" for col in categorical_target]\n",
    "\n",
    "# - Kolom yang di-passthrough (sisa kolom lain, termasuk one-hot Minat dan Bakat)\n",
    "passthrough_cols = [col for col in X_train.columns if col not in numeric_features + categorical_target]\n",
    "transformed_cols += passthrough_cols\n",
    "\n",
    "# Buat dataframe dari hasil transformasi\n",
    "X_train_transformed_df = pd.DataFrame(X_train_transformed, columns=transformed_cols, index=X_train.index)\n",
    "\n",
    "# Tampilkan hasil transformasi\n",
    "X_train_transformed_df.head()\n"
   ]
  },
  {
   "cell_type": "markdown",
   "id": "85ee7a8e",
   "metadata": {
    "id": "85ee7a8e"
   },
   "source": [
    "# Baseline Model"
   ]
  },
  {
   "cell_type": "code",
   "execution_count": 40,
   "id": "c5fdb9bb",
   "metadata": {
    "id": "c5fdb9bb",
    "outputId": "5eb3af97-1ffe-4222-ba78-008bcab889db"
   },
   "outputs": [
    {
     "name": "stdout",
     "output_type": "stream",
     "text": [
      "Baseline Decision Tree Accuracy on Train Set: 1.0000\n",
      "Baseline Decision Tree Accuracy on Test Set : 0.9733\n"
     ]
    }
   ],
   "source": [
    "# === MODEL DECISION TREE ===\n",
    "baseline_pipe_dt = Pipeline(steps=[\n",
    "    ('preprocessor', preprocessor),\n",
    "    ('classifier', DecisionTreeClassifier(random_state=42))\n",
    "])\n",
    "\n",
    "baseline_pipe_dt.fit(X_train, y_train)\n",
    "\n",
    "# === PREDIKSI DAN EVALUASI ===\n",
    "y_pred_train = baseline_pipe_dt.predict(X_train)\n",
    "y_pred_test = baseline_pipe_dt.predict(X_test)\n",
    "\n",
    "train_acc = accuracy_score(y_train, y_pred_train)\n",
    "test_acc = accuracy_score(y_test, y_pred_test)\n",
    "\n",
    "print(f\"Baseline Decision Tree Accuracy on Train Set: {train_acc:.4f}\")\n",
    "print(f\"Baseline Decision Tree Accuracy on Test Set : {test_acc:.4f}\")\n"
   ]
  },
  {
   "cell_type": "code",
   "execution_count": 41,
   "id": "de8f6489",
   "metadata": {
    "id": "de8f6489",
    "outputId": "3ca0e795-f29f-44c3-d48e-17a44177f165"
   },
   "outputs": [
    {
     "name": "stdout",
     "output_type": "stream",
     "text": [
      "Baseline Random Forest Accuracy on Train Set: 1.0000\n",
      "Baseline Random Forest Accuracy on Test Set : 0.7133\n"
     ]
    }
   ],
   "source": [
    "# === MODEL RANDOM FOREST ===\n",
    "baseline_pipe_rf = Pipeline(steps=[\n",
    "    ('preprocessor', preprocessor),\n",
    "    ('classifier', RandomForestClassifier(random_state=42))\n",
    "])\n",
    "\n",
    "baseline_pipe_rf.fit(X_train, y_train)\n",
    "\n",
    "# === PREDIKSI DAN EVALUASI ===\n",
    "y_pred_train = baseline_pipe_rf.predict(X_train)\n",
    "y_pred_test = baseline_pipe_rf.predict(X_test)\n",
    "\n",
    "train_acc = accuracy_score(y_train, y_pred_train)\n",
    "test_acc = accuracy_score(y_test, y_pred_test)\n",
    "\n",
    "print(f\"Baseline Random Forest Accuracy on Train Set: {train_acc:.4f}\")\n",
    "print(f\"Baseline Random Forest Accuracy on Test Set : {test_acc:.4f}\")\n"
   ]
  },
  {
   "cell_type": "code",
   "execution_count": 42,
   "id": "1cd7d20e",
   "metadata": {
    "id": "1cd7d20e",
    "outputId": "dab89ecd-5411-4f82-ad0b-1083398c6bae"
   },
   "outputs": [
    {
     "name": "stdout",
     "output_type": "stream",
     "text": [
      "Baseline Extra Tree Accuracy on Train Set: 1.0000\n",
      "Baseline Extra Tree Accuracy on Test Set : 0.6767\n"
     ]
    }
   ],
   "source": [
    "# === MODEL EXTRA TREES ===\n",
    "baseline_pipe_et = Pipeline(steps=[\n",
    "    ('preprocessor', preprocessor),\n",
    "    ('classifier', ExtraTreesClassifier(random_state=42))\n",
    "])\n",
    "\n",
    "baseline_pipe_et.fit(X_train, y_train)\n",
    "\n",
    "# === PREDIKSI DAN EVALUASI ===\n",
    "y_pred_train = baseline_pipe_et.predict(X_train)\n",
    "y_pred_test = baseline_pipe_et.predict(X_test)\n",
    "\n",
    "train_acc = accuracy_score(y_train, y_pred_train)\n",
    "test_acc = accuracy_score(y_test, y_pred_test)\n",
    "\n",
    "print(f\"Baseline Extra Tree Accuracy on Train Set: {train_acc:.4f}\")\n",
    "print(f\"Baseline Extra Tree Accuracy on Test Set : {test_acc:.4f}\")\n"
   ]
  },
  {
   "cell_type": "markdown",
   "id": "50047d59",
   "metadata": {
    "id": "50047d59"
   },
   "source": [
    "# Hyperparameter Tuning"
   ]
  },
  {
   "cell_type": "code",
   "execution_count": 43,
   "id": "fd71d3a5",
   "metadata": {
    "id": "fd71d3a5",
    "outputId": "9b582e6c-1ffd-42c5-8d63-fd7040a15207"
   },
   "outputs": [
    {
     "name": "stdout",
     "output_type": "stream",
     "text": [
      "Fitting 10 folds for each of 864 candidates, totalling 8640 fits\n",
      "\n",
      "Best Hyperparameters: {'classifier__criterion': 'entropy', 'classifier__max_depth': 10, 'classifier__max_features': 1.0, 'classifier__min_impurity_decrease': 0.0, 'classifier__min_samples_leaf': 1, 'classifier__min_samples_split': 2, 'classifier__splitter': 'best'}\n",
      "Best CV Accuracy: 0.9786\n"
     ]
    }
   ],
   "source": [
    "# === DECISION TREE CLASSIFIER ===\n",
    "pipe = Pipeline(steps=[\n",
    "    ('preprocessor', preprocessor),\n",
    "    ('classifier', DecisionTreeClassifier(random_state=42))\n",
    "])\n",
    "\n",
    "# === HYPERPARAMETER GRID ===\n",
    "param_grid = {\n",
    "    'classifier__criterion': ['entropy', 'gini'],\n",
    "    'classifier__max_depth': [5, 10, 15, None],\n",
    "    'classifier__min_samples_leaf': [1, 5, 10],\n",
    "    'classifier__min_samples_split': [2, 5, 10],\n",
    "    'classifier__max_features': [1.0, 'sqrt', 'log2'],\n",
    "    'classifier__min_impurity_decrease': [0.0, 0.001],\n",
    "    'classifier__splitter': ['best', 'random']\n",
    "}\n",
    "\n",
    "# === CROSS VALIDATION & GRID SEARCH ===\n",
    "skf = StratifiedKFold(n_splits=10, shuffle=True, random_state=42)\n",
    "\n",
    "grid_search = GridSearchCV(pipe, param_grid, cv=skf, n_jobs=-1, verbose=2)\n",
    "grid_search.fit(X_train, y_train)\n",
    "\n",
    "print(f\"\\nBest Hyperparameters: {grid_search.best_params_}\")\n",
    "print(f\"Best CV Accuracy: {grid_search.best_score_:.4f}\")"
   ]
  },
  {
   "cell_type": "markdown",
   "id": "acebf30a",
   "metadata": {
    "id": "acebf30a"
   },
   "source": [
    "# Model Evaluation"
   ]
  },
  {
   "cell_type": "code",
   "execution_count": 44,
   "id": "ae4467d0",
   "metadata": {
    "id": "ae4467d0",
    "outputId": "1f0ccabc-90e9-4e83-ad67-2fad16e1c762"
   },
   "outputs": [
    {
     "name": "stdout",
     "output_type": "stream",
     "text": [
      "Train Set Accuracy: 0.9914\n",
      "Test Set Accuracy: 0.9733\n"
     ]
    }
   ],
   "source": [
    "# === EVALUASI DI TRAIN SET ===\n",
    "y_pred_train = grid_search.predict(X_train)\n",
    "train_acc = accuracy_score(y_train, y_pred_train)\n",
    "print(f\"Train Set Accuracy: {train_acc:.4f}\")\n",
    "\n",
    "# === EVALUASI DI TEST SET ===\n",
    "y_pred_test = grid_search.predict(X_test)\n",
    "test_acc = accuracy_score(y_test, y_pred_test)\n",
    "print(f\"Test Set Accuracy: {test_acc:.4f}\")"
   ]
  },
  {
   "cell_type": "code",
   "execution_count": 48,
   "id": "4f3caafe",
   "metadata": {
    "id": "4f3caafe",
    "outputId": "8b5e42a9-382a-4b6e-b48e-38bcf1407d2d"
   },
   "outputs": [
    {
     "name": "stdout",
     "output_type": "stream",
     "text": [
      "\n",
      "Classification Report:\n",
      "              precision    recall  f1-score   support\n",
      "\n",
      "           1       1.00      1.00      1.00        22\n",
      "           2       1.00      1.00      1.00        26\n",
      "           3       0.92      0.79      0.85        29\n",
      "           4       1.00      1.00      1.00        24\n",
      "           5       0.77      0.91      0.83        22\n",
      "           6       1.00      1.00      1.00        22\n",
      "           7       1.00      1.00      1.00        23\n",
      "           8       1.00      1.00      1.00        29\n",
      "           9       1.00      1.00      1.00        30\n",
      "          10       1.00      1.00      1.00        25\n",
      "          11       1.00      1.00      1.00        27\n",
      "          12       1.00      1.00      1.00        21\n",
      "\n",
      "    accuracy                           0.97       300\n",
      "   macro avg       0.97      0.98      0.97       300\n",
      "weighted avg       0.98      0.97      0.97       300\n",
      "\n"
     ]
    }
   ],
   "source": [
    "# === CLASSIFICATION REPORT ===\n",
    "print(\"\\nClassification Report:\")\n",
    "print(classification_report(y_test, y_pred_test))"
   ]
  },
  {
   "cell_type": "code",
   "execution_count": 53,
   "id": "1c78beeb",
   "metadata": {
    "id": "1c78beeb",
    "outputId": "9e0e14a4-ccf1-4bd6-c3c8-982fe0ab6cc9"
   },
   "outputs": [
    {
     "data": {
      "image/png": "[encoded data removed]",
      "text/plain": [
       "<Figure size 640x480 with 2 Axes>"
      ]
     },
     "metadata": {},
     "output_type": "display_data"
    }
   ],
   "source": [
    "# === CONFUSION MATRIX ===\n",
    "cm = confusion_matrix(y_test, y_pred_test)\n",
    "disp = ConfusionMatrixDisplay(confusion_matrix=cm)\n",
    "disp.plot(cmap=plt.cm.Blues)\n",
    "plt.title(\"Confusion Matrix\")\n",
    "plt.show()"
   ]
  },
  {
   "cell_type": "code",
   "execution_count": 54,
   "id": "d4981229",
   "metadata": {
    "id": "d4981229",
    "outputId": "e88cedb0-267b-4fa0-8cef-df64dc80bef3"
   },
   "outputs": [
    {
     "data": {
      "image/png": "[encoded data removed]",
      "text/plain": [
       "<Figure size 1000x700 with 1 Axes>"
      ]
     },
     "metadata": {},
     "output_type": "display_data"
    }
   ],
   "source": [
    "# === ROC CURVE FOR MULTICLASS ===\n",
    "# Binarize the output\n",
    "y_test_binarized = label_binarize(y_test, classes=grid_search.classes_)\n",
    "y_score = grid_search.predict_proba(X_test)\n",
    "\n",
    "n_classes = y_test_binarized.shape[1]\n",
    "\n",
    "# Compute ROC curve and ROC area for each class\n",
    "plt.figure(figsize=(10, 7))\n",
    "for i in range(n_classes):\n",
    "    fpr, tpr, _ = roc_curve(y_test_binarized[:, i], y_score[:, i])\n",
    "    roc_auc = auc(fpr, tpr)\n",
    "    plt.plot(fpr, tpr, lw=2, label=f\"Class {grid_search.classes_[i]} (AUC = {roc_auc:.2f})\")\n",
    "\n",
    "plt.plot([0, 1], [0, 1], 'k--', lw=2)\n",
    "plt.xlim([0.0, 1.0])\n",
    "plt.ylim([0.0, 1.05])\n",
    "plt.xlabel(\"False Positive Rate\")\n",
    "plt.ylabel(\"True Positive Rate\")\n",
    "plt.title(\"ROC Curve - Multi-class Classification\")\n",
    "plt.legend(loc=\"lower right\")\n",
    "plt.grid(True)\n",
    "plt.tight_layout()\n",
    "plt.show()\n"
   ]
  },
  {
   "cell_type": "code",
   "execution_count": 55,
   "id": "cfae8e7c",
   "metadata": {
    "id": "cfae8e7c"
   },
   "outputs": [],
   "source": [
    "best_model = grid_search.best_estimator_\n",
    "\n",
    "def prediksi_program_studi(data_baru, best_model, X_train, numeric_features, categorical_target, program_studi_mapping):\n",
    "    # Menyamakan kolom dataset dengan hasil training model\n",
    "    minat_bakat_columns = [col for col in X_train.columns if col not in numeric_features + categorical_target]\n",
    "\n",
    "    minat_bakat_dummies = data_baru['minat_bakat'].str.get_dummies(sep=', ')\n",
    "    for col in minat_bakat_columns:\n",
    "        if col not in minat_bakat_dummies.columns:\n",
    "            minat_bakat_dummies[col] = 0\n",
    "    minat_bakat_dummies = minat_bakat_dummies[minat_bakat_columns]\n",
    "\n",
    "    data_baru_processed = data_baru.drop('minat_bakat', axis=1)\n",
    "    data_baru_final = pd.concat([data_baru_processed, minat_bakat_dummies], axis=1)\n",
    "    data_baru_final = data_baru_final[X_train.columns]\n",
    "\n",
    "    # Prediksi data baru\n",
    "    prediksi = best_model.predict(data_baru_final)[0]\n",
    "    reverse_mapping = {v: k for k, v in program_studi_mapping.items()}\n",
    "\n",
    "    print(f\"Hasil Prediksi Program Studi (numerik): {prediksi}\")\n",
    "    print(f\"Hasil Prediksi Program Studi: {reverse_mapping[prediksi]}\")\n",
    "\n",
    "    return reverse_mapping[prediksi]"
   ]
  },
  {
   "cell_type": "code",
   "execution_count": 56,
   "id": "d58823a5",
   "metadata": {
    "id": "d58823a5",
    "outputId": "6f6cb87e-1172-4448-d01d-a337d64c3e4a"
   },
   "outputs": [
    {
     "name": "stdout",
     "output_type": "stream",
     "text": [
      "Hasil Prediksi Program Studi (numerik): 7\n",
      "Hasil Prediksi Program Studi: Teknologi Multimedia Broadcasting\n"
     ]
    }
   ],
   "source": [
    "data_baru = pd.DataFrame({\n",
    "    'jenjang_pendidikan': ['D3'],\n",
    "    'minat_bakat': ['Teknologi Informasi, Desain Animasi'],\n",
    "    'jalur_pendaftaran': ['Jalur Prestasi'],\n",
    "    'rencana_karir': ['Broadcast Engineer'],\n",
    "    'rata_nilai': [90.0]\n",
    "})\n",
    "\n",
    "hasil = prediksi_program_studi(data_baru, best_model, X_train, numeric_features, categorical_target, program_studi_mapping)\n"
   ]
  },
  {
   "cell_type": "code",
   "execution_count": 57,
   "id": "c2a3758c",
   "metadata": {
    "id": "c2a3758c",
    "outputId": "0392fbba-0021-4234-9981-a3e2cd99c6b3"
   },
   "outputs": [
    {
     "name": "stdout",
     "output_type": "stream",
     "text": [
      "Hasil Prediksi Program Studi (numerik): 12\n",
      "Hasil Prediksi Program Studi: Sains Data Terapan\n"
     ]
    }
   ],
   "source": [
    "# Data baru dalam format DataFrame\n",
    "data_baru = pd.DataFrame({\n",
    "    'jenjang_pendidikan': ['D3'],\n",
    "    'minat_bakat': ['Teknologi Informasi, Matematika'],\n",
    "    'jalur_pendaftaran': ['Jalur Tes Tulis'],\n",
    "    'rencana_karir': ['Business Intelligence Analyst'],\n",
    "    'rata_nilai': [850.0]\n",
    "})\n",
    "\n",
    "hasil = prediksi_program_studi(data_baru, best_model, X_train, numeric_features, categorical_target, program_studi_mapping)"
   ]
  },
  {
   "cell_type": "code",
   "execution_count": 58,
   "id": "f7e9fa7b",
   "metadata": {},
   "outputs": [
    {
     "data": {
      "text/plain": [
       "['metadata.pkl']"
      ]
     },
     "execution_count": 58,
     "metadata": {},
     "output_type": "execute_result"
    }
   ],
   "source": [
    "import joblib\n",
    "\n",
    "# Simpan pipeline model\n",
    "joblib.dump(best_model, 'model.pkl')\n",
    "\n",
    "# Simpan metadata penting\n",
    "metadata = {\n",
    "    'minat_bakat_columns': [col for col in X_train.columns if col not in numeric_features + categorical_target],\n",
    "    'X_columns': X_train.columns.tolist(),\n",
    "    'program_studi_mapping': program_studi_mapping,\n",
    "    'reverse_mapping': {v: k for k, v in program_studi_mapping.items()}\n",
    "}\n",
    "joblib.dump(metadata, 'metadata.pkl')"
   ]
  },
  {
   "cell_type": "code",
   "execution_count": 59,
   "id": "f09f5697",
   "metadata": {},
   "outputs": [],
   "source": [
    "import joblib\n",
    "import pandas as pd\n",
    "\n",
    "# Load model dan metadata\n",
    "model = joblib.load('model.pkl')\n",
    "metadata = joblib.load('metadata.pkl')\n",
    "\n",
    "def prediksi_program_studi(data_baru):\n",
    "    minat_bakat_columns = metadata['minat_bakat_columns']\n",
    "    X_columns = metadata['X_columns']\n",
    "    reverse_mapping = metadata['reverse_mapping']\n",
    "\n",
    "    # Proses 'Minat dan Bakat'\n",
    "    minat_bakat_dummies = data_baru['minat_bakat'].str.get_dummies(sep=', ')\n",
    "    for col in minat_bakat_columns:\n",
    "        if col not in minat_bakat_dummies.columns:\n",
    "            minat_bakat_dummies[col] = 0\n",
    "    minat_bakat_dummies = minat_bakat_dummies[minat_bakat_columns]\n",
    "\n",
    "    # Gabung dan urutkan kolom\n",
    "    data_baru_processed = data_baru.drop('minat_bakat', axis=1)\n",
    "    data_baru_final = pd.concat([data_baru_processed, minat_bakat_dummies], axis=1)\n",
    "    data_baru_final = data_baru_final[X_columns]\n",
    "\n",
    "    # Prediksi\n",
    "    prediksi = model.predict(data_baru_final)[0]\n",
    "    return reverse_mapping[prediksi]\n"
   ]
  },
  {
   "cell_type": "code",
   "execution_count": 60,
   "id": "faf43ccd",
   "metadata": {},
   "outputs": [
    {
     "name": "stdout",
     "output_type": "stream",
     "text": [
      "Program Studi: Teknologi Multimedia Broadcasting\n"
     ]
    }
   ],
   "source": [
    "data_baru = pd.DataFrame({\n",
    "    'jenjang_pendidikan': ['D3'],\n",
    "    'minat_bakat': ['Teknologi Informasi, Desain Animasi'],\n",
    "    'jalur_pendaftaran': ['Jalur Prestasi'],\n",
    "    'rencana_karir': ['Broadcast Engineer'],\n",
    "    'rata_nilai': [95.0]\n",
    "})\n",
    "\n",
    "hasil = prediksi_program_studi(data_baru)\n",
    "print(\"Program Studi:\", hasil)\n"
   ]
  },
  {
   "cell_type": "code",
   "execution_count": 61,
   "id": "e2a7ec3c",
   "metadata": {},
   "outputs": [
    {
     "name": "stdout",
     "output_type": "stream",
     "text": [
      "['3D Modeler', 'Automation Engineer', 'Broadcast Engineer', 'Business Intelligence Analyst', 'Cloud Engineer', 'Computer Engineer', 'Control Systems Engineer', 'Cybersecurity Analyst', 'Data Scientist', 'DevOps Engineer', 'Digital Content Creator', 'Electrical Engineer', 'Electronics Technician', 'Embedded Systems Engineer', 'Energy Analyst', 'Full Stack Developer', 'Game Designer', 'Game Developer', 'IT Support Specialist', 'Industrial Electrician', 'Machine Learning Engineer', 'Mechatronics Specialist', 'Motion Graphics Artist', 'Multimedia Designer', 'Network Engineer', 'Network Security Specialist', 'Power Plant Operator', 'RF Engineer', 'Renewable Energy Engineer', 'Robotics Engineer', 'Software Engineer', 'System Administrator', 'Telecommunications Specialist', 'UI/UX Designer', 'Video Editor']\n"
     ]
    }
   ],
   "source": [
    "import pandas as pd\n",
    "\n",
    "# Baca data\n",
    "data = pd.read_csv(\"dataset_for_ml_fix.csv\", delimiter=';')\n",
    "minba_series = data[\"rencana_karir\"]\n",
    "\n",
    "# Langkah: pisahkan berdasarkan koma dan kumpulkan semua ke satu list\n",
    "all_minat_bakat = []\n",
    "for item in minba_series.dropna():  # dropna jika ada NaN\n",
    "    split_items = [x.strip() for x in item.split(',')]\n",
    "    all_minat_bakat.extend(split_items)\n",
    "\n",
    "# Ambil yang unik\n",
    "unique_minat_bakat = sorted(set(all_minat_bakat))\n",
    "\n",
    "# Tampilkan\n",
    "print(unique_minat_bakat)\n"
   ]
  },
  {
   "cell_type": "markdown",
   "id": "d244e47b",
   "metadata": {},
   "source": [
    "# MLFLOW"
   ]
  },
  {
   "cell_type": "markdown",
   "id": "4cf7e4a8",
   "metadata": {},
   "source": [
    "### Baseline Decision Tree"
   ]
  },
  {
   "cell_type": "code",
   "execution_count": 62,
   "id": "e34996ff",
   "metadata": {},
   "outputs": [
    {
     "name": "stderr",
     "output_type": "stream",
     "text": [
      "2025/05/21 23:40:20 INFO mlflow.tracking.fluent: Experiment with name 'DecisionTree_ProgramStudi_Classification' does not exist. Creating a new experiment.\n",
      "c:\\Users\\USER\\AppData\\Local\\Programs\\Python\\Python311\\Lib\\site-packages\\mlflow\\types\\utils.py:452: UserWarning: Hint: Inferred schema contains integer column(s). Integer columns in Python cannot represent missing values. If your input data contains missing values at inference time, it will be encoded as floats and will cause a schema enforcement error. The best way to avoid this problem is to infer the model schema based on a realistic data sample (training dataset) that includes missing values. Alternatively, you can declare integer columns as doubles (float64) whenever these columns may have missing values. See `Handling Integers With Missing Values <https://www.mlflow.org/docs/latest/models.html#handling-integers-with-missing-values>`_ for more details.\n",
      "  warnings.warn(\n"
     ]
    },
    {
     "data": {
      "application/vnd.jupyter.widget-view+json": {
       "model_id": "e00a38d996fc47c78a557695690c1741",
       "version_major": 2,
       "version_minor": 0
      },
      "text/plain": [
       "Downloading artifacts:   0%|          | 0/7 [00:00<?, ?it/s]"
      ]
     },
     "metadata": {},
     "output_type": "display_data"
    },
    {
     "name": "stderr",
     "output_type": "stream",
     "text": [
      "Successfully registered model 'DecisionTreeClassifierProgramStudi'.\n",
      "2025/05/21 23:40:32 INFO mlflow.store.model_registry.abstract_store: Waiting up to 300 seconds for model version to finish creation. Model name: DecisionTreeClassifierProgramStudi, version 1\n"
     ]
    },
    {
     "name": "stdout",
     "output_type": "stream",
     "text": [
      "Train Accuracy: 1.0000\n",
      "Test Accuracy : 0.9733\n",
      "🏃 View run mysterious-kite-658 at: http://127.0.0.1:8080/#/experiments/273382460280728022/runs/9970d05de3ce4f2995f12def63a43f30\n",
      "🧪 View experiment at: http://127.0.0.1:8080/#/experiments/273382460280728022\n"
     ]
    },
    {
     "name": "stderr",
     "output_type": "stream",
     "text": [
      "Created version '1' of model 'DecisionTreeClassifierProgramStudi'.\n"
     ]
    }
   ],
   "source": [
    "# === Buat Pipeline Model ===\n",
    "baseline_pipe_dt = Pipeline(steps=[\n",
    "    ('preprocessor', preprocessor),\n",
    "    ('classifier', DecisionTreeClassifier(random_state=42))\n",
    "])\n",
    "\n",
    "mlflow.set_tracking_uri(\"http://127.0.0.1:8080\")\n",
    "\n",
    "# === Mulai Tracking MLflow ===\n",
    "mlflow.set_experiment(\"DecisionTree_ProgramStudi_Classification\")\n",
    "\n",
    "with mlflow.start_run():\n",
    "    # Train model\n",
    "    baseline_pipe_dt.fit(X_train, y_train)\n",
    "\n",
    "    # Predict\n",
    "    y_pred_train = baseline_pipe_dt.predict(X_train)\n",
    "    y_pred_test = baseline_pipe_dt.predict(X_test)\n",
    "\n",
    "    # Hitung akurasi\n",
    "    train_acc = accuracy_score(y_train, y_pred_train)\n",
    "    test_acc = accuracy_score(y_test, y_pred_test)\n",
    "\n",
    "    # Logging ke MLflow\n",
    "    mlflow.set_tag(\"model_type\", \"DecisionTreeClassifier\")\n",
    "    mlflow.log_param(\"test_size\", 0.3)\n",
    "    mlflow.log_param(\"random_state\", 4824)\n",
    "    mlflow.log_param(\"scaler\", \"StandardScaler\")\n",
    "    mlflow.log_param(\"categorical_encoding\", \"TargetEncoder\")\n",
    "    mlflow.log_metric(\"train_accuracy\", train_acc)\n",
    "    mlflow.log_metric(\"test_accuracy\", test_acc)\n",
    "\n",
    "    # Infer signature dan log model\n",
    "    signature = infer_signature(X_train, y_pred_train)\n",
    "    input_example = X_train.iloc[:5]\n",
    "\n",
    "    mlflow.sklearn.log_model(\n",
    "        sk_model=baseline_pipe_dt,\n",
    "        artifact_path=\"decision_tree_model\",\n",
    "        registered_model_name=\"DecisionTreeClassifierProgramStudi\",\n",
    "        signature=signature,\n",
    "        input_example=input_example\n",
    "    )\n",
    "\n",
    "    print(f\"Train Accuracy: {train_acc:.4f}\")\n",
    "    print(f\"Test Accuracy : {test_acc:.4f}\")"
   ]
  },
  {
   "cell_type": "markdown",
   "id": "db2175dc",
   "metadata": {},
   "source": [
    "### Tuning Hyperparameter Decision Tree"
   ]
  },
  {
   "cell_type": "code",
   "execution_count": 63,
   "id": "71e483f7",
   "metadata": {},
   "outputs": [
    {
     "name": "stderr",
     "output_type": "stream",
     "text": [
      "c:\\Users\\USER\\AppData\\Local\\Programs\\Python\\Python311\\Lib\\site-packages\\mlflow\\types\\utils.py:452: UserWarning: Hint: Inferred schema contains integer column(s). Integer columns in Python cannot represent missing values. If your input data contains missing values at inference time, it will be encoded as floats and will cause a schema enforcement error. The best way to avoid this problem is to infer the model schema based on a realistic data sample (training dataset) that includes missing values. Alternatively, you can declare integer columns as doubles (float64) whenever these columns may have missing values. See `Handling Integers With Missing Values <https://www.mlflow.org/docs/latest/models.html#handling-integers-with-missing-values>`_ for more details.\n",
      "  warnings.warn(\n"
     ]
    },
    {
     "data": {
      "application/vnd.jupyter.widget-view+json": {
       "model_id": "da7b9b271076422d8f093425c107c7a7",
       "version_major": 2,
       "version_minor": 0
      },
      "text/plain": [
       "Downloading artifacts:   0%|          | 0/7 [00:00<?, ?it/s]"
      ]
     },
     "metadata": {},
     "output_type": "display_data"
    },
    {
     "name": "stderr",
     "output_type": "stream",
     "text": [
      "Registered model 'DecisionTreeClassifierProgramStudi' already exists. Creating a new version of this model...\n",
      "2025/05/21 23:40:40 INFO mlflow.store.model_registry.abstract_store: Waiting up to 300 seconds for model version to finish creation. Model name: DecisionTreeClassifierProgramStudi, version 2\n"
     ]
    },
    {
     "name": "stdout",
     "output_type": "stream",
     "text": [
      "Train Accuracy (Tuned DT): 0.9871\n",
      "Test Accuracy  (Tuned DT): 0.9633\n",
      "🏃 View run funny-steed-128 at: http://127.0.0.1:8080/#/experiments/273382460280728022/runs/14ff6e0d6ee443cd8121d40ec7537d20\n",
      "🧪 View experiment at: http://127.0.0.1:8080/#/experiments/273382460280728022\n"
     ]
    },
    {
     "name": "stderr",
     "output_type": "stream",
     "text": [
      "Created version '2' of model 'DecisionTreeClassifierProgramStudi'.\n"
     ]
    }
   ],
   "source": [
    "# === Pipeline Decision Tree dengan Hyperparameter Tuning ===\n",
    "baseline_pipe_dt_tuned = Pipeline(steps=[\n",
    "    ('preprocessor', preprocessor),\n",
    "    ('classifier', DecisionTreeClassifier(\n",
    "        criterion='entropy',\n",
    "        max_depth=10,\n",
    "        max_features=1.0,\n",
    "        min_impurity_decrease=0.001,\n",
    "        min_samples_leaf=5,\n",
    "        min_samples_split=2,\n",
    "        splitter='best',\n",
    "        random_state=42\n",
    "    ))\n",
    "])\n",
    "\n",
    "mlflow.set_tracking_uri(\"http://127.0.0.1:8080\")\n",
    "\n",
    "# === MLflow Tracking ===\n",
    "mlflow.set_experiment(\"DecisionTree_ProgramStudi_Classification\")\n",
    "\n",
    "with mlflow.start_run():\n",
    "    # Train model\n",
    "    baseline_pipe_dt_tuned.fit(X_train, y_train)\n",
    "\n",
    "    # Predict\n",
    "    y_pred_train = baseline_pipe_dt_tuned.predict(X_train)\n",
    "    y_pred_test = baseline_pipe_dt_tuned.predict(X_test)\n",
    "\n",
    "    # Evaluate\n",
    "    train_acc = accuracy_score(y_train, y_pred_train)\n",
    "    test_acc = accuracy_score(y_test, y_pred_test)\n",
    "\n",
    "    # Logging\n",
    "    clf = baseline_pipe_dt_tuned.named_steps['classifier']\n",
    "    mlflow.set_tag(\"model_type\", \"DecisionTreeClassifier\")\n",
    "    mlflow.log_param(\"criterion\", clf.criterion)\n",
    "    mlflow.log_param(\"max_depth\", clf.max_depth)\n",
    "    mlflow.log_param(\"max_features\", clf.max_features)\n",
    "    mlflow.log_param(\"min_impurity_decrease\", clf.min_impurity_decrease)\n",
    "    mlflow.log_param(\"min_samples_leaf\", clf.min_samples_leaf)\n",
    "    mlflow.log_param(\"min_samples_split\", clf.min_samples_split)\n",
    "    mlflow.log_param(\"splitter\", clf.splitter)\n",
    "    mlflow.log_param(\"random_state\", clf.random_state)\n",
    "\n",
    "    mlflow.log_metric(\"train_accuracy\", train_acc)\n",
    "    mlflow.log_metric(\"test_accuracy\", test_acc)\n",
    "\n",
    "    # Log model with schema\n",
    "    signature = infer_signature(X_train, y_pred_train)\n",
    "    input_example = X_train.iloc[:5]\n",
    "\n",
    "    mlflow.sklearn.log_model(\n",
    "        sk_model=baseline_pipe_dt_tuned,\n",
    "        artifact_path=\"decision_tree_model\",\n",
    "        registered_model_name=\"DecisionTreeClassifierProgramStudi\",\n",
    "        signature=signature,\n",
    "        input_example=input_example\n",
    "    )\n",
    "\n",
    "    print(f\"Train Accuracy (Tuned DT): {train_acc:.4f}\")\n",
    "    print(f\"Test Accuracy  (Tuned DT): {test_acc:.4f}\")"
   ]
  },
  {
   "cell_type": "markdown",
   "id": "56461647",
   "metadata": {},
   "source": [
    "### Baseline Random Forest"
   ]
  },
  {
   "cell_type": "code",
   "execution_count": 64,
   "id": "53746605",
   "metadata": {},
   "outputs": [
    {
     "name": "stderr",
     "output_type": "stream",
     "text": [
      "2025/05/21 23:40:40 INFO mlflow.tracking.fluent: Experiment with name 'RandomForest_ProgramStudi_Classification' does not exist. Creating a new experiment.\n"
     ]
    },
    {
     "name": "stderr",
     "output_type": "stream",
     "text": [
      "c:\\Users\\USER\\AppData\\Local\\Programs\\Python\\Python311\\Lib\\site-packages\\mlflow\\types\\utils.py:452: UserWarning: Hint: Inferred schema contains integer column(s). Integer columns in Python cannot represent missing values. If your input data contains missing values at inference time, it will be encoded as floats and will cause a schema enforcement error. The best way to avoid this problem is to infer the model schema based on a realistic data sample (training dataset) that includes missing values. Alternatively, you can declare integer columns as doubles (float64) whenever these columns may have missing values. See `Handling Integers With Missing Values <https://www.mlflow.org/docs/latest/models.html#handling-integers-with-missing-values>`_ for more details.\n",
      "  warnings.warn(\n"
     ]
    },
    {
     "data": {
      "application/vnd.jupyter.widget-view+json": {
       "model_id": "dfd461aba7424f4986c0cd9ddda66f8f",
       "version_major": 2,
       "version_minor": 0
      },
      "text/plain": [
       "Downloading artifacts:   0%|          | 0/7 [00:00<?, ?it/s]"
      ]
     },
     "metadata": {},
     "output_type": "display_data"
    },
    {
     "name": "stderr",
     "output_type": "stream",
     "text": [
      "Successfully registered model 'RandomForestClassifierProgramStudi'.\n",
      "2025/05/21 23:40:48 INFO mlflow.store.model_registry.abstract_store: Waiting up to 300 seconds for model version to finish creation. Model name: RandomForestClassifierProgramStudi, version 1\n"
     ]
    },
    {
     "name": "stdout",
     "output_type": "stream",
     "text": [
      "Train Accuracy (RF): 1.0000\n",
      "Test Accuracy  (RF): 0.7133\n",
      "🏃 View run receptive-slug-139 at: http://127.0.0.1:8080/#/experiments/190121980320452904/runs/387ae4b8657c488399bfcc95f6ec854e\n",
      "🧪 View experiment at: http://127.0.0.1:8080/#/experiments/190121980320452904\n"
     ]
    },
    {
     "name": "stderr",
     "output_type": "stream",
     "text": [
      "Created version '1' of model 'RandomForestClassifierProgramStudi'.\n"
     ]
    }
   ],
   "source": [
    "# === Pipeline Model Random Forest ===\n",
    "baseline_pipe_rf = Pipeline(steps=[\n",
    "    ('preprocessor', preprocessor),\n",
    "    ('classifier', RandomForestClassifier(random_state=42))\n",
    "])\n",
    "\n",
    "# === MLflow Tracking untuk Random Forest ===\n",
    "mlflow.set_experiment(\"RandomForest_ProgramStudi_Classification\")\n",
    "\n",
    "with mlflow.start_run():\n",
    "    # Train\n",
    "    baseline_pipe_rf.fit(X_train, y_train)\n",
    "\n",
    "    # Predict\n",
    "    y_pred_train = baseline_pipe_rf.predict(X_train)\n",
    "    y_pred_test = baseline_pipe_rf.predict(X_test)\n",
    "\n",
    "    # Evaluate\n",
    "    train_acc = accuracy_score(y_train, y_pred_train)\n",
    "    test_acc = accuracy_score(y_test, y_pred_test)\n",
    "\n",
    "    # Logging parameter & metric\n",
    "    rf_model = baseline_pipe_rf.named_steps['classifier']\n",
    "    mlflow.set_tag(\"model_type\", \"RandomForestClassifier\")\n",
    "    mlflow.log_param(\"test_size\", 0.3)\n",
    "    mlflow.log_param(\"random_state\", 42)\n",
    "    mlflow.log_param(\"n_estimators\", rf_model.n_estimators)\n",
    "    mlflow.log_param(\"max_depth\", rf_model.max_depth)\n",
    "    mlflow.log_param(\"scaler\", \"StandardScaler\")\n",
    "    mlflow.log_param(\"categorical_encoding\", \"TargetEncoder\")\n",
    "\n",
    "    mlflow.log_metric(\"train_accuracy\", train_acc)\n",
    "    mlflow.log_metric(\"test_accuracy\", test_acc)\n",
    "\n",
    "    # Log model + signature + input example\n",
    "    signature = infer_signature(X_train, y_pred_train)\n",
    "    input_example = X_train.iloc[:5]\n",
    "\n",
    "    mlflow.sklearn.log_model(\n",
    "        sk_model=baseline_pipe_rf,\n",
    "        artifact_path=\"random_forest_model\",\n",
    "        registered_model_name=\"RandomForestClassifierProgramStudi\",\n",
    "        signature=signature,\n",
    "        input_example=input_example\n",
    "    )\n",
    "\n",
    "    print(f\"Train Accuracy (RF): {train_acc:.4f}\")\n",
    "    print(f\"Test Accuracy  (RF): {test_acc:.4f}\")\n"
   ]
  },
  {
   "cell_type": "markdown",
   "id": "1a34cbc8",
   "metadata": {},
   "source": [
    "### Baseline Extra Trees"
   ]
  },
  {
   "cell_type": "code",
   "execution_count": 65,
   "id": "efc9aba5",
   "metadata": {},
   "outputs": [
    {
     "name": "stderr",
     "output_type": "stream",
     "text": [
      "2025/05/21 23:40:48 INFO mlflow.tracking.fluent: Experiment with name 'ExtraTrees_ProgramStudi_Classification' does not exist. Creating a new experiment.\n",
      "c:\\Users\\USER\\AppData\\Local\\Programs\\Python\\Python311\\Lib\\site-packages\\mlflow\\types\\utils.py:452: UserWarning: Hint: Inferred schema contains integer column(s). Integer columns in Python cannot represent missing values. If your input data contains missing values at inference time, it will be encoded as floats and will cause a schema enforcement error. The best way to avoid this problem is to infer the model schema based on a realistic data sample (training dataset) that includes missing values. Alternatively, you can declare integer columns as doubles (float64) whenever these columns may have missing values. See `Handling Integers With Missing Values <https://www.mlflow.org/docs/latest/models.html#handling-integers-with-missing-values>`_ for more details.\n",
      "  warnings.warn(\n"
     ]
    },
    {
     "data": {
      "application/vnd.jupyter.widget-view+json": {
       "model_id": "5a18ef120b2f475d878cc2aadfac5e89",
       "version_major": 2,
       "version_minor": 0
      },
      "text/plain": [
       "Downloading artifacts:   0%|          | 0/7 [00:00<?, ?it/s]"
      ]
     },
     "metadata": {},
     "output_type": "display_data"
    },
    {
     "name": "stderr",
     "output_type": "stream",
     "text": [
      "Successfully registered model 'ExtraTreesClassifierProgramStudi'.\n",
      "2025/05/21 23:40:57 INFO mlflow.store.model_registry.abstract_store: Waiting up to 300 seconds for model version to finish creation. Model name: ExtraTreesClassifierProgramStudi, version 1\n",
      "Created version '1' of model 'ExtraTreesClassifierProgramStudi'.\n"
     ]
    },
    {
     "name": "stdout",
     "output_type": "stream",
     "text": [
      "Train Accuracy (Extra Trees): 1.0000\n",
      "Test Accuracy  (Extra Trees): 0.6767\n",
      "🏃 View run unleashed-whale-986 at: http://127.0.0.1:8080/#/experiments/376725348119219751/runs/bd80fff108614022a539cbf9b67c5010\n",
      "🧪 View experiment at: http://127.0.0.1:8080/#/experiments/376725348119219751\n"
     ]
    }
   ],
   "source": [
    "# === Pipeline Model Extra Trees ===\n",
    "baseline_pipe_et = Pipeline(steps=[\n",
    "    ('preprocessor', preprocessor),\n",
    "    ('classifier', ExtraTreesClassifier(random_state=42))\n",
    "])\n",
    "\n",
    "mlflow.set_tracking_uri(\"http://127.0.0.1:8080\")\n",
    "\n",
    "# === MLflow Tracking untuk Extra Trees ===\n",
    "mlflow.set_experiment(\"ExtraTrees_ProgramStudi_Classification\")\n",
    "\n",
    "with mlflow.start_run():\n",
    "    # Train\n",
    "    baseline_pipe_et.fit(X_train, y_train)\n",
    "\n",
    "    # Predict\n",
    "    y_pred_train = baseline_pipe_et.predict(X_train)\n",
    "    y_pred_test = baseline_pipe_et.predict(X_test)\n",
    "\n",
    "    # Evaluate\n",
    "    train_acc = accuracy_score(y_train, y_pred_train)\n",
    "    test_acc = accuracy_score(y_test, y_pred_test)\n",
    "\n",
    "    # Logging parameter & metric\n",
    "    et_model = baseline_pipe_et.named_steps['classifier']\n",
    "    mlflow.set_tag(\"model_type\", \"ExtraTreesClassifier\")\n",
    "    mlflow.log_param(\"test_size\", 0.3)\n",
    "    mlflow.log_param(\"random_state\", 42)\n",
    "    mlflow.log_param(\"n_estimators\", et_model.n_estimators)\n",
    "    mlflow.log_param(\"max_depth\", et_model.max_depth)\n",
    "    mlflow.log_param(\"scaler\", \"StandardScaler\")\n",
    "    mlflow.log_param(\"categorical_encoding\", \"TargetEncoder\")\n",
    "\n",
    "    mlflow.log_metric(\"train_accuracy\", train_acc)\n",
    "    mlflow.log_metric(\"test_accuracy\", test_acc)\n",
    "\n",
    "    # Log model + schema\n",
    "    signature = infer_signature(X_train, y_pred_train)\n",
    "    input_example = X_train.iloc[:5]\n",
    "\n",
    "    mlflow.sklearn.log_model(\n",
    "        sk_model=baseline_pipe_et,\n",
    "        artifact_path=\"extra_trees_model\",\n",
    "        registered_model_name=\"ExtraTreesClassifierProgramStudi\",\n",
    "        signature=signature,\n",
    "        input_example=input_example\n",
    "    )\n",
    "\n",
    "    print(f\"Train Accuracy (Extra Trees): {train_acc:.4f}\")\n",
    "    print(f\"Test Accuracy  (Extra Trees): {test_acc:.4f}\")"
   ]
  }
 ],
 "metadata": {
  "colab": {
   "provenance": []
  },
  "kernelspec": {
   "display_name": "Python 3",
   "language": "python",
   "name": "python3"
  },
  "language_info": {
   "codemirror_mode": {
    "name": "ipython",
    "version": 3
   },
   "file_extension": ".py",
   "mimetype": "text/x-python",
   "name": "python",
   "nbconvert_exporter": "python",
   "pygments_lexer": "ipython3",
   "version": "3.11.6"
  }
 },
 "nbformat": 4,
 "nbformat_minor": 5
}
